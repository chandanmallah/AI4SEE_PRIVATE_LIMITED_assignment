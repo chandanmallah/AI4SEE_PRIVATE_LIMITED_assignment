{
  "nbformat": 4,
  "nbformat_minor": 0,
  "metadata": {
    "colab": {
      "provenance": []
    },
    "kernelspec": {
      "name": "python3",
      "display_name": "Python 3"
    },
    "language_info": {
      "name": "python"
    }
  },
  "cells": [
    {
      "cell_type": "code",
      "execution_count": null,
      "metadata": {
        "id": "YUUQZrDjwT7N"
      },
      "outputs": [],
      "source": []
    },
    {
      "cell_type": "code",
      "source": [
        "from google.colab import drive\n",
        "drive.mount('/content/drive')"
      ],
      "metadata": {
        "colab": {
          "base_uri": "https://localhost:8080/",
          "height": 0
        },
        "id": "4jT97puswZTg",
        "outputId": "1b6b5382-93c0-4a1b-b726-448d761e75c4"
      },
      "execution_count": 1,
      "outputs": [
        {
          "output_type": "stream",
          "name": "stdout",
          "text": [
            "Mounted at /content/drive\n"
          ]
        }
      ]
    },
    {
      "cell_type": "code",
      "source": [
        "import pandas as pd\n",
        "import numpy as np"
      ],
      "metadata": {
        "id": "dUnjW2FBwwt6"
      },
      "execution_count": 16,
      "outputs": []
    },
    {
      "cell_type": "code",
      "source": [
        "df = pd.read_csv('/content/dataset-eye.csv')"
      ],
      "metadata": {
        "id": "7EszrqMhxRbf"
      },
      "execution_count": 17,
      "outputs": []
    },
    {
      "cell_type": "code",
      "source": [
        "df.head()\n"
      ],
      "metadata": {
        "colab": {
          "base_uri": "https://localhost:8080/",
          "height": 206
        },
        "id": "ZE2JMruoxY06",
        "outputId": "49ed386d-48b7-47fc-895b-1293a8594d87"
      },
      "execution_count": 18,
      "outputs": [
        {
          "output_type": "execute_result",
          "data": {
            "text/plain": [
              "       AF3       F7       F3      FC5       T7        P       O1       O2  \\\n",
              "0  4329.23  4009.23  4289.23  4148.21  4350.26  4586.15  4096.92  4641.03   \n",
              "1  4324.62  4004.62  4293.85  4148.72  4342.05  4586.67  4097.44  4638.97   \n",
              "2  4327.69  4006.67  4295.38  4156.41  4336.92  4583.59  4096.92  4630.26   \n",
              "3  4328.72  4011.79  4296.41  4155.90  4343.59  4582.56  4097.44  4630.77   \n",
              "4  4326.15  4011.79  4292.31  4151.28  4347.69  4586.67  4095.90  4627.69   \n",
              "\n",
              "        P8       T8      FC6       F4       F8      AF4  class  \n",
              "0  4222.05  4238.46  4211.28  4280.51  4635.90  4393.85      0  \n",
              "1  4210.77  4226.67  4207.69  4279.49  4632.82  4384.10      0  \n",
              "2  4207.69  4222.05  4206.67  4282.05  4628.72  4389.23      0  \n",
              "3  4217.44  4235.38  4210.77  4287.69  4632.31  4396.41      0  \n",
              "4  4210.77  4244.10  4212.82  4288.21  4632.82  4398.46      0  "
            ],
            "text/html": [
              "\n",
              "  <div id=\"df-cfc75f07-0fa3-4535-b046-637a91fc1e08\">\n",
              "    <div class=\"colab-df-container\">\n",
              "      <div>\n",
              "<style scoped>\n",
              "    .dataframe tbody tr th:only-of-type {\n",
              "        vertical-align: middle;\n",
              "    }\n",
              "\n",
              "    .dataframe tbody tr th {\n",
              "        vertical-align: top;\n",
              "    }\n",
              "\n",
              "    .dataframe thead th {\n",
              "        text-align: right;\n",
              "    }\n",
              "</style>\n",
              "<table border=\"1\" class=\"dataframe\">\n",
              "  <thead>\n",
              "    <tr style=\"text-align: right;\">\n",
              "      <th></th>\n",
              "      <th>AF3</th>\n",
              "      <th>F7</th>\n",
              "      <th>F3</th>\n",
              "      <th>FC5</th>\n",
              "      <th>T7</th>\n",
              "      <th>P</th>\n",
              "      <th>O1</th>\n",
              "      <th>O2</th>\n",
              "      <th>P8</th>\n",
              "      <th>T8</th>\n",
              "      <th>FC6</th>\n",
              "      <th>F4</th>\n",
              "      <th>F8</th>\n",
              "      <th>AF4</th>\n",
              "      <th>class</th>\n",
              "    </tr>\n",
              "  </thead>\n",
              "  <tbody>\n",
              "    <tr>\n",
              "      <th>0</th>\n",
              "      <td>4329.23</td>\n",
              "      <td>4009.23</td>\n",
              "      <td>4289.23</td>\n",
              "      <td>4148.21</td>\n",
              "      <td>4350.26</td>\n",
              "      <td>4586.15</td>\n",
              "      <td>4096.92</td>\n",
              "      <td>4641.03</td>\n",
              "      <td>4222.05</td>\n",
              "      <td>4238.46</td>\n",
              "      <td>4211.28</td>\n",
              "      <td>4280.51</td>\n",
              "      <td>4635.90</td>\n",
              "      <td>4393.85</td>\n",
              "      <td>0</td>\n",
              "    </tr>\n",
              "    <tr>\n",
              "      <th>1</th>\n",
              "      <td>4324.62</td>\n",
              "      <td>4004.62</td>\n",
              "      <td>4293.85</td>\n",
              "      <td>4148.72</td>\n",
              "      <td>4342.05</td>\n",
              "      <td>4586.67</td>\n",
              "      <td>4097.44</td>\n",
              "      <td>4638.97</td>\n",
              "      <td>4210.77</td>\n",
              "      <td>4226.67</td>\n",
              "      <td>4207.69</td>\n",
              "      <td>4279.49</td>\n",
              "      <td>4632.82</td>\n",
              "      <td>4384.10</td>\n",
              "      <td>0</td>\n",
              "    </tr>\n",
              "    <tr>\n",
              "      <th>2</th>\n",
              "      <td>4327.69</td>\n",
              "      <td>4006.67</td>\n",
              "      <td>4295.38</td>\n",
              "      <td>4156.41</td>\n",
              "      <td>4336.92</td>\n",
              "      <td>4583.59</td>\n",
              "      <td>4096.92</td>\n",
              "      <td>4630.26</td>\n",
              "      <td>4207.69</td>\n",
              "      <td>4222.05</td>\n",
              "      <td>4206.67</td>\n",
              "      <td>4282.05</td>\n",
              "      <td>4628.72</td>\n",
              "      <td>4389.23</td>\n",
              "      <td>0</td>\n",
              "    </tr>\n",
              "    <tr>\n",
              "      <th>3</th>\n",
              "      <td>4328.72</td>\n",
              "      <td>4011.79</td>\n",
              "      <td>4296.41</td>\n",
              "      <td>4155.90</td>\n",
              "      <td>4343.59</td>\n",
              "      <td>4582.56</td>\n",
              "      <td>4097.44</td>\n",
              "      <td>4630.77</td>\n",
              "      <td>4217.44</td>\n",
              "      <td>4235.38</td>\n",
              "      <td>4210.77</td>\n",
              "      <td>4287.69</td>\n",
              "      <td>4632.31</td>\n",
              "      <td>4396.41</td>\n",
              "      <td>0</td>\n",
              "    </tr>\n",
              "    <tr>\n",
              "      <th>4</th>\n",
              "      <td>4326.15</td>\n",
              "      <td>4011.79</td>\n",
              "      <td>4292.31</td>\n",
              "      <td>4151.28</td>\n",
              "      <td>4347.69</td>\n",
              "      <td>4586.67</td>\n",
              "      <td>4095.90</td>\n",
              "      <td>4627.69</td>\n",
              "      <td>4210.77</td>\n",
              "      <td>4244.10</td>\n",
              "      <td>4212.82</td>\n",
              "      <td>4288.21</td>\n",
              "      <td>4632.82</td>\n",
              "      <td>4398.46</td>\n",
              "      <td>0</td>\n",
              "    </tr>\n",
              "  </tbody>\n",
              "</table>\n",
              "</div>\n",
              "      <button class=\"colab-df-convert\" onclick=\"convertToInteractive('df-cfc75f07-0fa3-4535-b046-637a91fc1e08')\"\n",
              "              title=\"Convert this dataframe to an interactive table.\"\n",
              "              style=\"display:none;\">\n",
              "        \n",
              "  <svg xmlns=\"http://www.w3.org/2000/svg\" height=\"24px\"viewBox=\"0 0 24 24\"\n",
              "       width=\"24px\">\n",
              "    <path d=\"M0 0h24v24H0V0z\" fill=\"none\"/>\n",
              "    <path d=\"M18.56 5.44l.94 2.06.94-2.06 2.06-.94-2.06-.94-.94-2.06-.94 2.06-2.06.94zm-11 1L8.5 8.5l.94-2.06 2.06-.94-2.06-.94L8.5 2.5l-.94 2.06-2.06.94zm10 10l.94 2.06.94-2.06 2.06-.94-2.06-.94-.94-2.06-.94 2.06-2.06.94z\"/><path d=\"M17.41 7.96l-1.37-1.37c-.4-.4-.92-.59-1.43-.59-.52 0-1.04.2-1.43.59L10.3 9.45l-7.72 7.72c-.78.78-.78 2.05 0 2.83L4 21.41c.39.39.9.59 1.41.59.51 0 1.02-.2 1.41-.59l7.78-7.78 2.81-2.81c.8-.78.8-2.07 0-2.86zM5.41 20L4 18.59l7.72-7.72 1.47 1.35L5.41 20z\"/>\n",
              "  </svg>\n",
              "      </button>\n",
              "      \n",
              "  <style>\n",
              "    .colab-df-container {\n",
              "      display:flex;\n",
              "      flex-wrap:wrap;\n",
              "      gap: 12px;\n",
              "    }\n",
              "\n",
              "    .colab-df-convert {\n",
              "      background-color: #E8F0FE;\n",
              "      border: none;\n",
              "      border-radius: 50%;\n",
              "      cursor: pointer;\n",
              "      display: none;\n",
              "      fill: #1967D2;\n",
              "      height: 32px;\n",
              "      padding: 0 0 0 0;\n",
              "      width: 32px;\n",
              "    }\n",
              "\n",
              "    .colab-df-convert:hover {\n",
              "      background-color: #E2EBFA;\n",
              "      box-shadow: 0px 1px 2px rgba(60, 64, 67, 0.3), 0px 1px 3px 1px rgba(60, 64, 67, 0.15);\n",
              "      fill: #174EA6;\n",
              "    }\n",
              "\n",
              "    [theme=dark] .colab-df-convert {\n",
              "      background-color: #3B4455;\n",
              "      fill: #D2E3FC;\n",
              "    }\n",
              "\n",
              "    [theme=dark] .colab-df-convert:hover {\n",
              "      background-color: #434B5C;\n",
              "      box-shadow: 0px 1px 3px 1px rgba(0, 0, 0, 0.15);\n",
              "      filter: drop-shadow(0px 1px 2px rgba(0, 0, 0, 0.3));\n",
              "      fill: #FFFFFF;\n",
              "    }\n",
              "  </style>\n",
              "\n",
              "      <script>\n",
              "        const buttonEl =\n",
              "          document.querySelector('#df-cfc75f07-0fa3-4535-b046-637a91fc1e08 button.colab-df-convert');\n",
              "        buttonEl.style.display =\n",
              "          google.colab.kernel.accessAllowed ? 'block' : 'none';\n",
              "\n",
              "        async function convertToInteractive(key) {\n",
              "          const element = document.querySelector('#df-cfc75f07-0fa3-4535-b046-637a91fc1e08');\n",
              "          const dataTable =\n",
              "            await google.colab.kernel.invokeFunction('convertToInteractive',\n",
              "                                                     [key], {});\n",
              "          if (!dataTable) return;\n",
              "\n",
              "          const docLinkHtml = 'Like what you see? Visit the ' +\n",
              "            '<a target=\"_blank\" href=https://colab.research.google.com/notebooks/data_table.ipynb>data table notebook</a>'\n",
              "            + ' to learn more about interactive tables.';\n",
              "          element.innerHTML = '';\n",
              "          dataTable['output_type'] = 'display_data';\n",
              "          await google.colab.output.renderOutput(dataTable, element);\n",
              "          const docLink = document.createElement('div');\n",
              "          docLink.innerHTML = docLinkHtml;\n",
              "          element.appendChild(docLink);\n",
              "        }\n",
              "      </script>\n",
              "    </div>\n",
              "  </div>\n",
              "  "
            ]
          },
          "metadata": {},
          "execution_count": 18
        }
      ]
    },
    {
      "cell_type": "code",
      "source": [
        "null_values = df.isnull().sum()\n",
        "print(null_values)"
      ],
      "metadata": {
        "colab": {
          "base_uri": "https://localhost:8080/",
          "height": 0
        },
        "id": "Iy6AZi3Exaq_",
        "outputId": "83a83563-0e3d-4c21-e3c0-2c65b31a0b6b"
      },
      "execution_count": 19,
      "outputs": [
        {
          "output_type": "stream",
          "name": "stdout",
          "text": [
            "AF3      0\n",
            "F7       0\n",
            "F3       0\n",
            "FC5      0\n",
            "T7       0\n",
            "P        0\n",
            "O1       0\n",
            "O2       0\n",
            "P8       0\n",
            "T8       0\n",
            "FC6      0\n",
            "F4       0\n",
            "F8       0\n",
            "AF4      0\n",
            "class    0\n",
            "dtype: int64\n"
          ]
        }
      ]
    },
    {
      "cell_type": "code",
      "source": [
        "# mean for each column\n",
        "mean = df.mean()\n",
        "\n",
        "\n",
        "print(\"Mean:\")\n",
        "print(mean)\n"
      ],
      "metadata": {
        "colab": {
          "base_uri": "https://localhost:8080/",
          "height": 0
        },
        "id": "xLiM6QQixxyZ",
        "outputId": "d80fd78a-d5c8-4f5c-9086-0b7831380c44"
      },
      "execution_count": 20,
      "outputs": [
        {
          "output_type": "stream",
          "name": "stdout",
          "text": [
            "Mean:\n",
            "AF3      4321.917777\n",
            "F7       4009.767694\n",
            "F3       4264.022433\n",
            "FC5      4164.946326\n",
            "T7       4341.741075\n",
            "P        4644.022379\n",
            "O1       4110.400160\n",
            "O2       4616.056904\n",
            "P8       4218.826610\n",
            "T8       4231.316200\n",
            "FC6      4202.456900\n",
            "F4       4279.232774\n",
            "F8       4615.205336\n",
            "AF4      4416.435832\n",
            "class       0.448798\n",
            "dtype: float64\n"
          ]
        }
      ]
    },
    {
      "cell_type": "code",
      "source": [
        "# median for each column\n",
        "median = df.median()\n",
        "\n",
        "print(\"Median:\")\n",
        "print(median)"
      ],
      "metadata": {
        "colab": {
          "base_uri": "https://localhost:8080/",
          "height": 0
        },
        "id": "RwZ98g9wx-Fb",
        "outputId": "ee777515-312f-476d-fe3b-dfa9e868f46e"
      },
      "execution_count": 21,
      "outputs": [
        {
          "output_type": "stream",
          "name": "stdout",
          "text": [
            "Median:\n",
            "AF3      4294.36\n",
            "F7       4005.64\n",
            "F3       4262.56\n",
            "FC5      4120.51\n",
            "T7       4338.97\n",
            "P        4617.95\n",
            "O1       4070.26\n",
            "O2       4613.33\n",
            "P8       4199.49\n",
            "T8       4229.23\n",
            "FC6      4200.51\n",
            "F4       4276.92\n",
            "F8       4603.08\n",
            "AF4      4354.87\n",
            "class       0.00\n",
            "dtype: float64\n"
          ]
        }
      ]
    },
    {
      "cell_type": "code",
      "source": [
        "\n",
        "# mode for each column\n",
        "mode = df.mode().iloc[0]\n",
        "\n",
        "print(\"Mode:\")\n",
        "print(mode)"
      ],
      "metadata": {
        "colab": {
          "base_uri": "https://localhost:8080/",
          "height": 0
        },
        "id": "lM_-MHnDyT9v",
        "outputId": "cb7d260d-64eb-443d-d7d1-b4c9f6b5e6ae"
      },
      "execution_count": 22,
      "outputs": [
        {
          "output_type": "stream",
          "name": "stdout",
          "text": [
            "Mode:\n",
            "AF3      4291.79\n",
            "F7       4003.59\n",
            "F3       4263.59\n",
            "FC5      4122.56\n",
            "T7       4332.31\n",
            "P        4616.41\n",
            "O1       4072.31\n",
            "O2       4610.77\n",
            "P8       4196.92\n",
            "T8       4224.62\n",
            "FC6      4195.38\n",
            "F4       4273.85\n",
            "F8       4603.08\n",
            "AF4      4352.31\n",
            "class       0.00\n",
            "Name: 0, dtype: float64\n"
          ]
        }
      ]
    },
    {
      "cell_type": "code",
      "source": [
        "# calculate skewness for each column\n",
        "skewness = df.skew()\n"
      ],
      "metadata": {
        "id": "ZqHP5yv3yY2u"
      },
      "execution_count": 28,
      "outputs": []
    },
    {
      "cell_type": "code",
      "source": [
        "# Print only the positive skewness values\n",
        "for col, value in skewness.items():\n",
        "    if value > 0:\n",
        "        print(f\"{col} has positive skewness of {value}\")"
      ],
      "metadata": {
        "colab": {
          "base_uri": "https://localhost:8080/",
          "height": 0
        },
        "id": "4ztfLoOc0ZdK",
        "outputId": "574d0f10-d4f6-4531-fe5b-33e69c8b5a96"
      },
      "execution_count": 24,
      "outputs": [
        {
          "output_type": "stream",
          "name": "stdout",
          "text": [
            "AF3 has positive skewness of 122.29386525011812\n",
            "F7 has positive skewness of 39.046557690711396\n",
            "FC5 has positive skewness of 122.38777688436551\n",
            "T7 has positive skewness of 7.561902122619299\n",
            "P has positive skewness of 122.36281054964749\n",
            "O1 has positive skewness of 122.38359282836112\n",
            "O2 has positive skewness of 51.09721901768454\n",
            "P8 has positive skewness of 122.33467120005805\n",
            "T8 has positive skewness of 10.23070102200852\n",
            "FC6 has positive skewness of 31.649004824348655\n",
            "F4 has positive skewness of 26.556468850889043\n",
            "F8 has positive skewness of 121.90727242585102\n",
            "AF4 has positive skewness of 118.1250449998719\n",
            "class has positive skewness of 0.205909390230705\n"
          ]
        }
      ]
    },
    {
      "cell_type": "markdown",
      "source": [
        "A positive skewness indicates that the tail on the right side of the probability density function is longer or fatter than the left side. This means that the data is skewed to the right, and the majority of the values are concentrated on the left side of the mean"
      ],
      "metadata": {
        "id": "f8_BdXnc02XI"
      }
    },
    {
      "cell_type": "code",
      "source": [
        "# Print only the negative skewness values\n",
        "for col, value in skewness.items():\n",
        "    if value < 0:\n",
        "        print(f\"{col} has negative skewness of {value}\")"
      ],
      "metadata": {
        "colab": {
          "base_uri": "https://localhost:8080/",
          "height": 0
        },
        "id": "zPuu4TWr1G6Z",
        "outputId": "055a9246-ffd9-4720-bda2-143bdfe16b87"
      },
      "execution_count": 26,
      "outputs": [
        {
          "output_type": "stream",
          "name": "stdout",
          "text": [
            "F3 has negative skewness of -13.615160740497625\n"
          ]
        }
      ]
    },
    {
      "cell_type": "markdown",
      "source": [
        "A negative skewness indicates that the tail on the left side is longer or fatter than the right side. This means that the data is skewed to the left, and the majority of the values are concentrated on the right side of the mean."
      ],
      "metadata": {
        "id": "VaRXDcfD1PQg"
      }
    },
    {
      "cell_type": "code",
      "source": [
        "# Print only the zero valued skewness values\n",
        "for col, value in skewness.items():\n",
        "    if value == 0:\n",
        "        print(f\"{col} has zero valued skewness of {value}\")"
      ],
      "metadata": {
        "id": "Xp6i-CFCyj2U"
      },
      "execution_count": 27,
      "outputs": []
    },
    {
      "cell_type": "markdown",
      "source": [
        "A skewness value of zero indicates that the data is symmetrical, and the mean, median, and mode are equal."
      ],
      "metadata": {
        "id": "__PnUXQ11lzO"
      }
    },
    {
      "cell_type": "code",
      "source": [
        "# print all the skewness values\n",
        "print(\"Skewness:\")\n",
        "print(skewness)"
      ],
      "metadata": {
        "colab": {
          "base_uri": "https://localhost:8080/",
          "height": 0
        },
        "id": "u1CeU9Us1YAk",
        "outputId": "da7abc0e-5dfa-4654-9780-25446c349cd9"
      },
      "execution_count": 29,
      "outputs": [
        {
          "output_type": "stream",
          "name": "stdout",
          "text": [
            "Skewness:\n",
            "AF3      122.293865\n",
            "F7        39.046558\n",
            "F3       -13.615161\n",
            "FC5      122.387777\n",
            "T7         7.561902\n",
            "P        122.362811\n",
            "O1       122.383593\n",
            "O2        51.097219\n",
            "P8       122.334671\n",
            "T8        10.230701\n",
            "FC6       31.649005\n",
            "F4        26.556469\n",
            "F8       121.907272\n",
            "AF4      118.125045\n",
            "class      0.205909\n",
            "dtype: float64\n"
          ]
        }
      ]
    },
    {
      "cell_type": "code",
      "source": [],
      "metadata": {
        "id": "7AeZWGV5111z"
      },
      "execution_count": null,
      "outputs": []
    }
  ]
}